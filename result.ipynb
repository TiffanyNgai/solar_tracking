{
 "cells": [
  {
   "cell_type": "code",
   "execution_count": 33,
   "metadata": {},
   "outputs": [],
   "source": [
    "import pandas as pd\n",
    "import matplotlib.pyplot as plt\n",
    "import numpy as np\n",
    "from datetime import datetime"
   ]
  },
  {
   "attachments": {},
   "cell_type": "markdown",
   "metadata": {},
   "source": [
    "## Ideal"
   ]
  },
  {
   "cell_type": "code",
   "execution_count": 34,
   "metadata": {},
   "outputs": [],
   "source": [
    "%run sun.py"
   ]
  },
  {
   "cell_type": "code",
   "execution_count": 35,
   "metadata": {},
   "outputs": [],
   "source": [
    "def I_t(el):\n",
    "    # negative elevation not meaningful\n",
    "    el2 = el.copy()\n",
    "    el2[el2<0] = 0\n",
    "    AM = 1/np.cos(np.radians(90-el2))\n",
    "    I = 1.1*(1353*0.7**AM**0.678)\n",
    "    return I"
   ]
  },
  {
   "cell_type": "code",
   "execution_count": 36,
   "metadata": {},
   "outputs": [],
   "source": [
    "def inc_ang(beta, panel_az, el, az):\n",
    "    \n",
    "    beta = np.radians(beta)\n",
    "    panel_az = np.radians(panel_az)\n",
    "    zen = np.radians(90 - el)\n",
    "    azrad = np.radians(az)\n",
    "    \n",
    "    arg = np.cos(beta)*np.cos(zen)+ \\\n",
    "            np.sin(beta)*np.sin(zen)*np.cos(azrad-panel_az)\n",
    "    deg = np.degrees(np.arccos(arg))\n",
    "    \n",
    "    # max value is 90, means output is zero \n",
    "    deg[deg>90] = 90\n",
    "    \n",
    "    return deg"
   ]
  },
  {
   "cell_type": "code",
   "execution_count": 37,
   "metadata": {},
   "outputs": [],
   "source": [
    "def current(el, area):\n",
    "    a_m2 = area/10000\n",
    "    power = I_t(el)*a_m2*0.2 # energy/area * area * efficiency\n",
    "    current = power/5 #volts\n",
    "    return current*1000"
   ]
  },
  {
   "cell_type": "code",
   "execution_count": 38,
   "metadata": {},
   "outputs": [],
   "source": [
    "# Provided functions\n",
    "\n",
    "#arguments in degrees\n",
    "#beta_ax: beta of axis \n",
    "# az_ax: axis azimuth\n",
    "# el: elevation of sun\n",
    "# az: azimuth of sun\n",
    "# limit: how far can the panel rotate in each direction? (default 90 i.e. can rotate 180 total)\n",
    "def R_opt(beta_ax, az_ax, el, az,limit=90):\n",
    "    beta_ax = np.radians(beta_ax)\n",
    "    az_ax = np.radians(az_ax)\n",
    "    \n",
    "    zen = np.radians(90 - el)\n",
    "    \n",
    "    azrad = np.radians(az)\n",
    "        \n",
    "    arg = np.sin(zen)*np.sin(azrad-az_ax)/ \\\n",
    "            (np.sin(zen)*np.cos(azrad-az_ax)*np.sin(beta_ax) \\\n",
    "             + np.cos(zen)*np.cos(beta_ax))\n",
    "    \n",
    "    phi = np.where((arg < 0) & ((azrad-az_ax) > 0) , 180, \n",
    "            np.where((arg > 0) & ((azrad-az_ax) < 0), -180,0))\n",
    "    \n",
    "    \n",
    "    R = np.degrees(np.arctan(arg)) + phi\n",
    "    \n",
    "    R[R>90] = limit\n",
    "    R[R<-90] = -limit\n",
    "    \n",
    "    return R\n",
    "\n",
    "def surface_beta(R, beta_ax):\n",
    "    beta_ax = np.radians(beta_ax)\n",
    "    Rrad = np.radians(R)\n",
    "    beta = np.arccos(np.cos(Rrad)*np.cos(beta_ax))\n",
    "    return np.degrees(beta)\n",
    "\n",
    "# must calculate surface_beta first\n",
    "def surface_azimuth(R, beta, az_ax):\n",
    "    Rrad = np.radians(R)\n",
    "    beta_rad = np.radians(beta)\n",
    "    az_ax = np.radians(az_ax)\n",
    "    \n",
    "    surface_az = az_ax + np.arcsin(np.sin(Rrad)/np.sin(beta_rad))\n",
    "    return np.degrees(surface_az)\n",
    "    \n",
    "\n",
    "def inc_SA(R, beta_ax, az_ax, el, az): \n",
    "    assert R.shape[0] == el.shape[0]\n",
    "    R = np.radians(R)\n",
    "    beta_ax = np.radians(beta_ax)\n",
    "    az_ax = np.radians(az_ax)\n",
    "    el = np.radians(90-el)\n",
    "    az = np.radians(az)\n",
    "    \n",
    "    arg = np.cos(R)*(np.sin(el)*np.cos(az-az_ax)*np.sin(beta_ax) \\\n",
    "                    +np.cos(el)*np.cos(beta_ax)) + \\\n",
    "                    np.sin(R)*np.sin(el)*np.sin(az-az_ax)\n",
    "    return np.degrees(np.arccos(arg))"
   ]
  },
  {
   "attachments": {},
   "cell_type": "markdown",
   "metadata": {},
   "source": [
    "## Single axis"
   ]
  },
  {
   "cell_type": "code",
   "execution_count": 246,
   "metadata": {},
   "outputs": [],
   "source": [
    "# current time, voltage (V), current (mA), power (mW)\n",
    "single_df = pd.read_csv('single_axis_0714.csv', header=None, names=['Time', 'Voltage', 'Current', 'Power'])\n",
    "single_df['Time'] = pd.to_datetime(single_df['Time'], format='%H:%M:%S')"
   ]
  },
  {
   "cell_type": "code",
   "execution_count": 247,
   "metadata": {},
   "outputs": [],
   "source": [
    "# Extract the minute component from the 'Time' column\n",
    "single_df['Minute'] = single_df['Time'].dt.strftime('%H:%M')\n",
    "\n",
    "# Calculate the average power for each minute\n",
    "average_single_df = single_df.groupby('Minute')['Power'].mean().reset_index()\n",
    "average_single_df = average_single_df.drop(average_single_df.index[-2:])\n"
   ]
  },
  {
   "cell_type": "code",
   "execution_count": 249,
   "metadata": {},
   "outputs": [],
   "source": [
    "average_single_df['Minute'] = \"2023-07-14 \" + average_single_df['Minute'].astype(str)\n",
    "average_single_df['Minute'] = pd.to_datetime(average_single_df['Minute'], format='%Y-%m-%d %H:%M:%S')\n",
    "sampled_single_df = average_single_df.set_index('Minute').resample('1T').mean().interpolate('linear')\n",
    "sampled_single_df = sampled_single_df.reset_index()\n",
    "sampled_single_df['Minute'] = sampled_single_df['Minute'].dt.strftime('%H:%M')"
   ]
  },
  {
   "cell_type": "code",
   "execution_count": 255,
   "metadata": {},
   "outputs": [],
   "source": [
    "A = 39.2\n",
    "beta = 50\n",
    "panel_az = 180\n",
    "time_zone = 4\n",
    "voltage = 6\n",
    "single_sp = np.array([sunPosition(2023,7,14,int(t.split(':')[0])+time_zone,int(t.split(':')[1])) \n",
    "                      for t in sampled_single_df['Minute']])\n",
    "single_ideal = current(single_sp[:,1], A) * voltage\n",
    "cos_theta = np.cos(np.radians(inc_ang(beta, panel_az, single_sp[:,1],single_sp[:,0])))\n",
    "single_ideal_fixed = single_ideal * cos_theta\n",
    "\n",
    "\n",
    "R = R_opt(beta,panel_az,single_sp[:,1],single_sp[:,0])\n",
    "cos_theta = np.cos(np.radians(inc_SA(R, beta, panel_az, single_sp[:,1], single_sp[:,0])))\n",
    "\n",
    "single_ideal_single = single_ideal * cos_theta"
   ]
  },
  {
   "cell_type": "code",
   "execution_count": 269,
   "metadata": {},
   "outputs": [
    {
     "name": "stdout",
     "output_type": "stream",
     "text": [
      "  Minute       Power\n",
      "0  11:56  436.581944\n",
      "1  11:57  413.612533\n",
      "2  11:58  461.703733\n",
      "3  11:59  338.441622\n",
      "4  12:00  131.463333\n",
      "   Minute       Power\n",
      "68  13:04  271.175494\n",
      "69  13:05  272.105796\n",
      "70  13:06  273.036098\n",
      "71  13:07  273.966400\n",
      "72  13:08   81.092222\n"
     ]
    }
   ],
   "source": [
    "print(sampled_single_df.head(5))\n",
    "print(sampled_single_df.tail(5))"
   ]
  },
  {
   "cell_type": "code",
   "execution_count": 257,
   "metadata": {},
   "outputs": [
    {
     "data": {
      "image/png": "[encoded data removed]",
      "text/plain": [
       "<Figure size 432x288 with 1 Axes>"
      ]
     },
     "metadata": {
      "needs_background": "light"
     },
     "output_type": "display_data"
    }
   ],
   "source": [
    "# Plot the time against the average power\n",
    "plt.plot(sampled_single_df['Minute'], sampled_single_df['Power'], label=\"real single axis power\")\n",
    "plt.plot(sampled_single_df['Minute'], single_ideal, label=\"ideal power\")\n",
    "plt.plot(sampled_single_df['Minute'], single_ideal_fixed, label=\"ideal fixed axis power\")\n",
    "plt.plot(sampled_single_df['Minute'], single_ideal_single, label=\"ideal single axis power\")\n",
    "plt.xlabel('Time [Hour:Minute]')\n",
    "plt.ylabel('Average Power [mW]')\n",
    "plt.title('Single axis tracking system')\n",
    "plt.xticks(np.arange(0, len(sampled_single_df['Minute'])+1, 8))\n",
    "plt.legend(loc='upper right', bbox_to_anchor=(1.51, 1))\n",
    "plt.show()"
   ]
  },
  {
   "cell_type": "code",
   "execution_count": 259,
   "metadata": {},
   "outputs": [
    {
     "name": "stdout",
     "output_type": "stream",
     "text": [
      "Total power captured by single axis tracking: 16847.912377315493\n",
      "Ideal power: 68834.57208213642\n",
      "Ideal fixed axis power: 58569.43569901456\n",
      "Ideal single axis power: 60827.033304750454\n",
      "\n",
      "Overall % power loss (vs ideal): 0.7552405445738541\n",
      "Overall % power loss (vs ideal single axis): 0.7230193310118297\n"
     ]
    }
   ],
   "source": [
    "total_single_real = np.trapz(sampled_single_df['Power'],dx=1)\n",
    "total_single_ideal = np.trapz(single_ideal,dx=1)\n",
    "total_single_ideal_fixed = np.trapz(single_ideal_fixed,dx=1)\n",
    "total_single_ideal_single = np.trapz(single_ideal_single,dx=1)\n",
    "\n",
    "print(f\"Total power captured by single axis tracking: {total_single_real}\")\n",
    "print(f\"Ideal power: {total_single_ideal}\")\n",
    "print(f\"Ideal fixed axis power: {total_single_ideal_fixed}\")\n",
    "print(f\"Ideal single axis power: {total_single_ideal_single}\")\n",
    "print()\n",
    "print(f\"Overall % power loss (vs ideal): {(total_single_ideal - total_single_real) / total_single_ideal}\")\n",
    "print(f\"Overall % power loss (vs ideal single axis): {(total_single_ideal_single - total_single_real) / total_single_ideal_single}\")"
   ]
  },
  {
   "attachments": {},
   "cell_type": "markdown",
   "metadata": {},
   "source": [
    "## Fixed axis"
   ]
  },
  {
   "cell_type": "code",
   "execution_count": 260,
   "metadata": {},
   "outputs": [],
   "source": [
    "# current time, voltage (V), current (mA), power (mW)\n",
    "fixed_df = pd.read_csv('fixed_axis_0714.csv', header=None, names=['Time', 'Voltage', 'Current', 'Power'])\n",
    "fixed_df['Time'] = pd.to_datetime(fixed_df['Time'], format='%H:%M:%S')"
   ]
  },
  {
   "cell_type": "code",
   "execution_count": 261,
   "metadata": {},
   "outputs": [],
   "source": [
    "# Extract the minute component from the 'Time' column\n",
    "fixed_df['Minute'] = fixed_df['Time'].dt.strftime('%H:%M')\n",
    "\n",
    "# Calculate the average power for each minute\n",
    "average_fixed_df = fixed_df.groupby('Minute')['Power'].mean().reset_index()\n",
    "average_fixed_df = average_fixed_df.drop(average_fixed_df.index[-19:])\n"
   ]
  },
  {
   "cell_type": "code",
   "execution_count": 262,
   "metadata": {},
   "outputs": [],
   "source": [
    "average_fixed_df['Minute'] = \"2023-07-14 \" + average_fixed_df['Minute'].astype(str)\n",
    "average_fixed_df['Minute'] = pd.to_datetime(average_fixed_df['Minute'], format='%Y-%m-%d %H:%M:%S')\n",
    "sampled_fixed_df = average_fixed_df.set_index('Minute').resample('1T').mean().interpolate('linear')\n",
    "sampled_fixed_df = sampled_fixed_df.reset_index()\n",
    "sampled_fixed_df['Minute'] = sampled_fixed_df['Minute'].dt.strftime('%H:%M')"
   ]
  },
  {
   "cell_type": "code",
   "execution_count": 263,
   "metadata": {},
   "outputs": [],
   "source": [
    "A = 39.2\n",
    "beta = 50\n",
    "panel_az = 180\n",
    "time_zone = 4\n",
    "voltage = 6\n",
    "fixed_sp = np.array([sunPosition(2023,7,14,int(t.split(':')[0])+time_zone,int(t.split(':')[1])) \n",
    "                      for t in sampled_fixed_df['Minute']])\n",
    "fixed_ideal = current(fixed_sp[:,1], A) * voltage\n",
    "cos_theta = np.cos(np.radians(inc_ang(beta, panel_az, fixed_sp[:,1],fixed_sp[:,0])))\n",
    "fixed_ideal_fixed = fixed_ideal * cos_theta\n",
    "\n",
    "\n",
    "R = R_opt(beta,panel_az,fixed_sp[:,1],fixed_sp[:,0])\n",
    "cos_theta = np.cos(np.radians(inc_SA(R, beta, panel_az, fixed_sp[:,1], fixed_sp[:,0])))\n",
    "\n",
    "fixed_ideal_single = fixed_ideal * cos_theta"
   ]
  },
  {
   "cell_type": "code",
   "execution_count": 270,
   "metadata": {},
   "outputs": [
    {
     "name": "stdout",
     "output_type": "stream",
     "text": [
      "  Minute       Power\n",
      "0  13:38  140.547273\n",
      "1  13:39  225.708933\n",
      "2  13:40  116.666667\n",
      "3  13:41  160.123243\n",
      "4  13:42  467.971200\n",
      "   Minute       Power\n",
      "68  14:46  366.298800\n",
      "69  14:47  392.370667\n",
      "70  14:48  383.317162\n",
      "71  14:49  428.236933\n",
      "72  14:50  422.239189\n"
     ]
    }
   ],
   "source": [
    "print(sampled_fixed_df.head(5))\n",
    "print(sampled_fixed_df.tail(5))"
   ]
  },
  {
   "cell_type": "code",
   "execution_count": 265,
   "metadata": {},
   "outputs": [
    {
     "data": {
      "image/png": "[encoded data removed]",
      "text/plain": [
       "<Figure size 432x288 with 1 Axes>"
      ]
     },
     "metadata": {
      "needs_background": "light"
     },
     "output_type": "display_data"
    }
   ],
   "source": [
    "# Plot the time against the average power\n",
    "plt.plot(sampled_fixed_df['Minute'], sampled_fixed_df['Power'], label=\"real fixed axis power\")\n",
    "plt.plot(sampled_fixed_df['Minute'], fixed_ideal, label=\"ideal power\")\n",
    "plt.plot(sampled_fixed_df['Minute'], fixed_ideal_fixed, label=\"ideal fixed axis power\")\n",
    "plt.plot(sampled_fixed_df['Minute'], fixed_ideal_single, label=\"ideal single axis power\")\n",
    "plt.xlabel('Time [Hour:Minute]')\n",
    "plt.ylabel('Average Power [mW]')\n",
    "plt.title('Fixed axis tracking system')\n",
    "plt.xticks(np.arange(0, len(sampled_fixed_df['Minute'])+1, 10))\n",
    "plt.legend(loc='upper right', bbox_to_anchor=(1.51, 1))\n",
    "plt.show()"
   ]
  },
  {
   "cell_type": "code",
   "execution_count": 266,
   "metadata": {},
   "outputs": [
    {
     "name": "stdout",
     "output_type": "stream",
     "text": [
      "Total power captured by fixed axis tracking: 11131.675822810954\n",
      "Ideal power: 68958.22860896958\n",
      "Ideal fixed axis power: 59277.16171306362\n",
      "Ideal single axis power: 60906.43182080021\n",
      "\n",
      "Overall % power loss (vs ideal): 0.8385736401969724\n",
      "Overall % power loss (vs ideal fixed axis): 0.8122097026727626\n"
     ]
    }
   ],
   "source": [
    "total_fixed_real = np.trapz(sampled_fixed_df['Power'],dx=1)\n",
    "total_fixed_ideal = np.trapz(fixed_ideal,dx=1)\n",
    "total_fixed_ideal_fixed = np.trapz(fixed_ideal_fixed,dx=1)\n",
    "total_fixed_ideal_single = np.trapz(fixed_ideal_single,dx=1)\n",
    "\n",
    "print(f\"Total power captured by fixed axis tracking: {total_fixed_real}\")\n",
    "print(f\"Ideal power: {total_fixed_ideal}\")\n",
    "print(f\"Ideal fixed axis power: {total_fixed_ideal_fixed}\")\n",
    "print(f\"Ideal single axis power: {total_fixed_ideal_single}\")\n",
    "print()\n",
    "print(f\"Overall % power loss (vs ideal): {(total_fixed_ideal - total_fixed_real) / total_fixed_ideal}\")\n",
    "print(f\"Overall % power loss (vs ideal fixed axis): {(total_fixed_ideal_fixed - total_fixed_real) / total_fixed_ideal_fixed}\")"
   ]
  },
  {
   "cell_type": "code",
   "execution_count": null,
   "metadata": {},
   "outputs": [],
   "source": []
  }
 ],
 "metadata": {
  "kernelspec": {
   "display_name": "Python 3",
   "language": "python",
   "name": "python3"
  },
  "language_info": {
   "codemirror_mode": {
    "name": "ipython",
    "version": 3
   },
   "file_extension": ".py",
   "mimetype": "text/x-python",
   "name": "python",
   "nbconvert_exporter": "python",
   "pygments_lexer": "ipython3",
   "version": "3.8.5"
  },
  "orig_nbformat": 4
 },
 "nbformat": 4,
 "nbformat_minor": 2
}
