{
 "cells": [
  {
   "cell_type": "code",
   "execution_count": 1,
   "metadata": {},
   "outputs": [],
   "source": [
    "import pandas as pd\n",
    "import matplotlib.pyplot as plt\n",
    "import numpy as np\n",
    "from datetime import datetime"
   ]
  },
  {
   "attachments": {},
   "cell_type": "markdown",
   "metadata": {},
   "source": [
    "## Ideal"
   ]
  },
  {
   "cell_type": "code",
   "execution_count": 2,
   "metadata": {},
   "outputs": [],
   "source": [
    "%run sun.py"
   ]
  },
  {
   "cell_type": "code",
   "execution_count": 3,
   "metadata": {},
   "outputs": [],
   "source": [
    "def I_t(el):\n",
    "    # negative elevation not meaningful\n",
    "    el2 = el.copy()\n",
    "    el2[el2<0] = 0\n",
    "    AM = 1/np.cos(np.radians(90-el2))\n",
    "    I = 1.1*(1353*0.7**AM**0.678)\n",
    "    return I"
   ]
  },
  {
   "cell_type": "code",
   "execution_count": 4,
   "metadata": {},
   "outputs": [],
   "source": [
    "def inc_ang(beta, panel_az, el, az):\n",
    "    \n",
    "    beta = np.radians(beta)\n",
    "    panel_az = np.radians(panel_az)\n",
    "    zen = np.radians(90 - el)\n",
    "    azrad = np.radians(az)\n",
    "    \n",
    "    arg = np.cos(beta)*np.cos(zen)+ \\\n",
    "            np.sin(beta)*np.sin(zen)*np.cos(azrad-panel_az)\n",
    "    deg = np.degrees(np.arccos(arg))\n",
    "    \n",
    "    # max value is 90, means output is zero \n",
    "    deg[deg>90] = 90\n",
    "    \n",
    "    return deg"
   ]
  },
  {
   "cell_type": "code",
   "execution_count": 5,
   "metadata": {},
   "outputs": [],
   "source": [
    "def current(el, area):\n",
    "    a_m2 = area/10000\n",
    "    power = I_t(el)*a_m2*0.2 # energy/area * area * efficiency\n",
    "    current = power/5 #volts\n",
    "    return current*1000"
   ]
  },
  {
   "cell_type": "code",
   "execution_count": 6,
   "metadata": {},
   "outputs": [],
   "source": [
    "# Provided functions\n",
    "\n",
    "#arguments in degrees\n",
    "#beta_ax: beta of axis \n",
    "# az_ax: axis azimuth\n",
    "# el: elevation of sun\n",
    "# az: azimuth of sun\n",
    "# limit: how far can the panel rotate in each direction? (default 90 i.e. can rotate 180 total)\n",
    "def R_opt(beta_ax, az_ax, el, az,limit=90):\n",
    "    beta_ax = np.radians(beta_ax)\n",
    "    az_ax = np.radians(az_ax)\n",
    "    \n",
    "    zen = np.radians(90 - el)\n",
    "    \n",
    "    azrad = np.radians(az)\n",
    "        \n",
    "    arg = np.sin(zen)*np.sin(azrad-az_ax)/ \\\n",
    "            (np.sin(zen)*np.cos(azrad-az_ax)*np.sin(beta_ax) \\\n",
    "             + np.cos(zen)*np.cos(beta_ax))\n",
    "    \n",
    "    phi = np.where((arg < 0) & ((azrad-az_ax) > 0) , 180, \n",
    "            np.where((arg > 0) & ((azrad-az_ax) < 0), -180,0))\n",
    "    \n",
    "    \n",
    "    R = np.degrees(np.arctan(arg)) + phi\n",
    "    \n",
    "    R[R>90] = limit\n",
    "    R[R<-90] = -limit\n",
    "    \n",
    "    return R\n",
    "\n",
    "def surface_beta(R, beta_ax):\n",
    "    beta_ax = np.radians(beta_ax)\n",
    "    Rrad = np.radians(R)\n",
    "    beta = np.arccos(np.cos(Rrad)*np.cos(beta_ax))\n",
    "    return np.degrees(beta)\n",
    "\n",
    "# must calculate surface_beta first\n",
    "def surface_azimuth(R, beta, az_ax):\n",
    "    Rrad = np.radians(R)\n",
    "    beta_rad = np.radians(beta)\n",
    "    az_ax = np.radians(az_ax)\n",
    "    \n",
    "    surface_az = az_ax + np.arcsin(np.sin(Rrad)/np.sin(beta_rad))\n",
    "    return np.degrees(surface_az)\n",
    "    \n",
    "\n",
    "def inc_SA(R, beta_ax, az_ax, el, az): \n",
    "    assert R.shape[0] == el.shape[0]\n",
    "    R = np.radians(R)\n",
    "    beta_ax = np.radians(beta_ax)\n",
    "    az_ax = np.radians(az_ax)\n",
    "    el = np.radians(90-el)\n",
    "    az = np.radians(az)\n",
    "    \n",
    "    arg = np.cos(R)*(np.sin(el)*np.cos(az-az_ax)*np.sin(beta_ax) \\\n",
    "                    +np.cos(el)*np.cos(beta_ax)) + \\\n",
    "                    np.sin(R)*np.sin(el)*np.sin(az-az_ax)\n",
    "    return np.degrees(np.arccos(arg))"
   ]
  },
  {
   "attachments": {},
   "cell_type": "markdown",
   "metadata": {},
   "source": [
    "## Single axis"
   ]
  },
  {
   "cell_type": "code",
   "execution_count": 7,
   "metadata": {},
   "outputs": [],
   "source": [
    "# current time, voltage (V), current (mA), power (mW)\n",
    "single_df = pd.read_csv('single_axis_0714.csv', header=None, names=['Time', 'Voltage', 'Current', 'Power'])\n",
    "single_df['Time'] = pd.to_datetime(single_df['Time'], format='%H:%M:%S')"
   ]
  },
  {
   "cell_type": "code",
   "execution_count": 8,
   "metadata": {},
   "outputs": [],
   "source": [
    "# Extract the minute component from the 'Time' column\n",
    "single_df['Minute'] = single_df['Time'].dt.strftime('%H:%M')\n",
    "\n",
    "# Calculate the average power for each minute\n",
    "average_single_df = single_df.groupby('Minute')['Power'].mean().reset_index()\n"
   ]
  },
  {
   "cell_type": "code",
   "execution_count": 9,
   "metadata": {},
   "outputs": [],
   "source": [
    "A = 39.2\n",
    "beta = 50\n",
    "panel_az = 180\n",
    "time_zone = 4\n",
    "voltage = 6\n",
    "single_sp = np.array([sunPosition(2023,7,14,int(t.split(':')[0])+time_zone,int(t.split(':')[1])) \n",
    "                      for t in average_single_df['Minute']])\n",
    "single_ideal = current(single_sp[:,1], A) * voltage\n",
    "cos_theta = np.cos(np.radians(inc_ang(beta, panel_az, single_sp[:,1],single_sp[:,0])))\n",
    "single_ideal_fixed = single_ideal * cos_theta\n",
    "\n",
    "\n",
    "R = R_opt(beta,panel_az,single_sp[:,1],single_sp[:,0])\n",
    "cos_theta = np.cos(np.radians(inc_SA(R, beta, panel_az, single_sp[:,1], single_sp[:,0])))\n",
    "\n",
    "single_ideal_single = single_ideal * cos_theta"
   ]
  },
  {
   "cell_type": "code",
   "execution_count": 30,
   "metadata": {},
   "outputs": [
    {
     "data": {
      "image/png": "[encoded data removed]",
      "text/plain": [
       "<Figure size 432x288 with 1 Axes>"
      ]
     },
     "metadata": {
      "needs_background": "light"
     },
     "output_type": "display_data"
    }
   ],
   "source": [
    "# Plot the time against the average power\n",
    "plt.plot(average_single_df['Minute'], average_single_df['Power'], label=\"real single axis power\")\n",
    "plt.plot(average_single_df['Minute'], single_ideal, label=\"ideal power\")\n",
    "plt.plot(average_single_df['Minute'], single_ideal_fixed, label=\"ideal fixed axis power\")\n",
    "plt.plot(average_single_df['Minute'], single_ideal_single, label=\"ideal single axis power\")\n",
    "plt.xlabel('Time [Hour:Minute]')\n",
    "plt.ylabel('Average Power [mW]')\n",
    "plt.title('Single axis tracking system')\n",
    "plt.xticks(np.arange(0, len(average_single_df['Minute'])+1, 5))\n",
    "plt.legend(loc='upper right', bbox_to_anchor=(1.51, 1))\n",
    "plt.show()"
   ]
  },
  {
   "cell_type": "code",
   "execution_count": 11,
   "metadata": {},
   "outputs": [
    {
     "name": "stdout",
     "output_type": "stream",
     "text": [
      "Total power captured by single axis tracking: 17940.309637706934\n",
      "Ideal power: 91881.32122458947\n",
      "Ideal fixed axis power: 78676.12772983364\n",
      "Ideal single axis power: 81163.34210383396\n",
      "\n",
      "Overall % power loss (vs ideal): 0.8047447577091903\n",
      "Overall % power loss (vs ideal single axis): 0.7789604374009695\n"
     ]
    }
   ],
   "source": [
    "interval_list = []\n",
    "prev_t = datetime.strptime('11:55', \"%H:%M\")\n",
    "for t in average_single_df['Minute']:\n",
    "    t = datetime.strptime(t, \"%H:%M\")\n",
    "    interval_list.append((t-prev_t).total_seconds()/60)\n",
    "    prev_t = t\n",
    "\n",
    "\n",
    "interval_list\n",
    "interval_list.pop(0)\n",
    "interval_list.append(1.0)\n",
    "\n",
    "total_single_real = 0\n",
    "total_single_ideal = 0\n",
    "total_single_ideal_fixed = 0\n",
    "total_single_ideal_single = 0\n",
    "\n",
    "for interval, real, ideal, ideal_fixed, ideal_single in zip(interval_list,average_single_df['Power'],single_ideal,single_ideal_fixed,single_ideal_single):\n",
    "    total_single_real += real*interval\n",
    "    total_single_ideal += ideal*interval\n",
    "    total_single_ideal_fixed += ideal_fixed*interval\n",
    "    total_single_ideal_single += ideal_single*interval\n",
    "\n",
    "print(f\"Total power captured by single axis tracking: {total_single_real}\")\n",
    "print(f\"Ideal power: {total_single_ideal}\")\n",
    "print(f\"Ideal fixed axis power: {total_single_ideal_fixed}\")\n",
    "print(f\"Ideal single axis power: {total_single_ideal_single}\")\n",
    "print()\n",
    "print(f\"Overall % power loss (vs ideal): {(total_single_ideal - total_single_real) / total_single_ideal}\")\n",
    "print(f\"Overall % power loss (vs ideal single axis): {(total_single_ideal_single - total_single_real) / total_single_ideal_single}\")"
   ]
  },
  {
   "attachments": {},
   "cell_type": "markdown",
   "metadata": {},
   "source": [
    "## Fixed axis"
   ]
  },
  {
   "cell_type": "code",
   "execution_count": 12,
   "metadata": {},
   "outputs": [],
   "source": [
    "# current time, voltage (V), current (mA), power (mW)\n",
    "fixed_df = pd.read_csv('fixed_axis_0714.csv', header=None, names=['Time', 'Voltage', 'Current', 'Power'])\n",
    "fixed_df['Time'] = pd.to_datetime(fixed_df['Time'], format='%H:%M:%S')"
   ]
  },
  {
   "cell_type": "code",
   "execution_count": 13,
   "metadata": {},
   "outputs": [],
   "source": [
    "# Extract the minute component from the 'Time' column\n",
    "fixed_df['Minute'] = fixed_df['Time'].dt.strftime('%H:%M')\n",
    "\n",
    "# Calculate the average power for each minute\n",
    "average_fixed_df = fixed_df.groupby('Minute')['Power'].mean().reset_index()\n"
   ]
  },
  {
   "cell_type": "code",
   "execution_count": 14,
   "metadata": {},
   "outputs": [],
   "source": [
    "A = 39.2\n",
    "beta = 50\n",
    "panel_az = 180\n",
    "time_zone = 4\n",
    "voltage = 6\n",
    "fixed_sp = np.array([sunPosition(2023,7,14,int(t.split(':')[0])+time_zone,int(t.split(':')[1])) \n",
    "                      for t in average_fixed_df['Minute']])\n",
    "fixed_ideal = current(fixed_sp[:,1], A) * voltage\n",
    "cos_theta = np.cos(np.radians(inc_ang(beta, panel_az, fixed_sp[:,1],fixed_sp[:,0])))\n",
    "fixed_ideal_fixed = fixed_ideal * cos_theta\n",
    "\n",
    "\n",
    "R = R_opt(beta,panel_az,fixed_sp[:,1],fixed_sp[:,0])\n",
    "cos_theta = np.cos(np.radians(inc_SA(R, beta, panel_az, fixed_sp[:,1], fixed_sp[:,0])))\n",
    "\n",
    "fixed_ideal_single = fixed_ideal * cos_theta"
   ]
  },
  {
   "cell_type": "code",
   "execution_count": 32,
   "metadata": {},
   "outputs": [
    {
     "data": {
      "image/png": "[encoded data removed]",
      "text/plain": [
       "<Figure size 432x288 with 1 Axes>"
      ]
     },
     "metadata": {
      "needs_background": "light"
     },
     "output_type": "display_data"
    }
   ],
   "source": [
    "# Plot the time against the average power\n",
    "plt.plot(average_fixed_df['Minute'], average_fixed_df['Power'], label=\"real fixed axis power\")\n",
    "plt.plot(average_fixed_df['Minute'], fixed_ideal, label=\"ideal power\")\n",
    "plt.plot(average_fixed_df['Minute'], fixed_ideal_fixed, label=\"ideal fixed axis power\")\n",
    "plt.plot(average_fixed_df['Minute'], fixed_ideal_single, label=\"ideal single axis power\")\n",
    "plt.xlabel('Time [Hour:Minute]')\n",
    "plt.ylabel('Average Power [mW]')\n",
    "plt.title('Fixed axis tracking system')\n",
    "plt.xticks(np.arange(0, len(average_fixed_df['Minute'])+1, 10))\n",
    "plt.legend(loc='upper right', bbox_to_anchor=(1.51, 1))\n",
    "plt.show()"
   ]
  },
  {
   "cell_type": "code",
   "execution_count": 16,
   "metadata": {},
   "outputs": [
    {
     "name": "stdout",
     "output_type": "stream",
     "text": [
      "Total power captured by fixed axis tracking: 17642.001853256974\n",
      "Ideal power: 67775.13383621923\n",
      "Ideal fixed axis power: 57171.83653454259\n",
      "Ideal single axis power: 59920.36745117595\n",
      "\n",
      "Overall % power loss (vs ideal): 0.7396980152648693\n",
      "Overall % power loss (vs ideal fixed axis): 0.6914214598896457\n"
     ]
    }
   ],
   "source": [
    "interval_list = []\n",
    "prev_t = datetime.strptime('13:37', \"%H:%M\")\n",
    "for t in average_fixed_df['Minute']:\n",
    "    t = datetime.strptime(t, \"%H:%M\")\n",
    "    interval_list.append((t-prev_t).total_seconds()/60)\n",
    "    prev_t = t\n",
    "\n",
    "\n",
    "interval_list\n",
    "interval_list.pop(0)\n",
    "interval_list.append(1.0)\n",
    "\n",
    "total_fixed_real = 0\n",
    "total_fixed_ideal = 0\n",
    "total_fixed_ideal_fixed = 0\n",
    "total_fixed_ideal_single = 0\n",
    "\n",
    "for interval, real, ideal, ideal_fixed, ideal_single in zip(interval_list,average_single_df['Power'],single_ideal,single_ideal_fixed,single_ideal_single):\n",
    "    total_fixed_real += real*interval\n",
    "    total_fixed_ideal += ideal*interval\n",
    "    total_fixed_ideal_fixed += ideal_fixed*interval\n",
    "    total_fixed_ideal_single += ideal_single*interval\n",
    "\n",
    "print(f\"Total power captured by fixed axis tracking: {total_fixed_real}\")\n",
    "print(f\"Ideal power: {total_fixed_ideal}\")\n",
    "print(f\"Ideal fixed axis power: {total_fixed_ideal_fixed}\")\n",
    "print(f\"Ideal single axis power: {total_fixed_ideal_single}\")\n",
    "print()\n",
    "print(f\"Overall % power loss (vs ideal): {(total_fixed_ideal - total_fixed_real) / total_fixed_ideal}\")\n",
    "print(f\"Overall % power loss (vs ideal fixed axis): {(total_fixed_ideal_fixed - total_fixed_real) / total_fixed_ideal_fixed}\")"
   ]
  },
  {
   "cell_type": "code",
   "execution_count": null,
   "metadata": {},
   "outputs": [],
   "source": []
  }
 ],
 "metadata": {
  "kernelspec": {
   "display_name": "Python 3",
   "language": "python",
   "name": "python3"
  },
  "language_info": {
   "codemirror_mode": {
    "name": "ipython",
    "version": 3
   },
   "file_extension": ".py",
   "mimetype": "text/x-python",
   "name": "python",
   "nbconvert_exporter": "python",
   "pygments_lexer": "ipython3",
   "version": "3.8.5"
  },
  "orig_nbformat": 4
 },
 "nbformat": 4,
 "nbformat_minor": 2
}
